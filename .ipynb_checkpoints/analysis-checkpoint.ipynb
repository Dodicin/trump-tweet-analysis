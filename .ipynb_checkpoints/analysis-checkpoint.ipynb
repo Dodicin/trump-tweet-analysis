{
 "cells": [
  {
   "cell_type": "markdown",
   "metadata": {
    "colab_type": "text",
    "id": "qc9xWZRZsH7D"
   },
   "source": [
    "# Analysis of Trump tweets\n",
    "\n",
    "\n"
   ]
  },
  {
   "cell_type": "markdown",
   "metadata": {
    "colab_type": "text",
    "id": "0oKaughPt6zv"
   },
   "source": [
    "## Dependencies"
   ]
  },
  {
   "cell_type": "code",
   "execution_count": 1,
   "metadata": {
    "colab": {
     "base_uri": "https://localhost:8080/",
     "height": 34
    },
    "colab_type": "code",
    "executionInfo": {
     "elapsed": 3760,
     "status": "ok",
     "timestamp": 1556284633617,
     "user": {
      "displayName": "Matteo Basso",
      "photoUrl": "",
      "userId": "03678417778284387731"
     },
     "user_tz": -120
    },
    "id": "Evh4yf7psm07",
    "outputId": "a022f8ab-3279-452a-dc44-66222d6e05ae"
   },
   "outputs": [
    {
     "name": "stdout",
     "output_type": "stream",
     "text": [
      "Collecting afinn\n",
      "\u001b[?25l  Downloading https://files.pythonhosted.org/packages/86/e5/ffbb7ee3cca21ac6d310ac01944fb163c20030b45bda25421d725d8a859a/afinn-0.1.tar.gz (52kB)\n",
      "\u001b[K     |████████████████████████████████| 61kB 5.9MB/s eta 0:00:01\n",
      "\u001b[?25hInstalling collected packages: afinn\n",
      "  Running setup.py install for afinn ... \u001b[?25lerror\n",
      "    Complete output from command /usr/bin/python -u -c \"import setuptools, tokenize;__file__='/tmp/pip-install-2k9qddlk/afinn/setup.py';f=getattr(tokenize, 'open', open)(__file__);code=f.read().replace('\\r\\n', '\\n');f.close();exec(compile(code, __file__, 'exec'))\" install --record /tmp/pip-record-wj0toiou/install-record.txt --single-version-externally-managed --compile:\n",
      "    running install\n",
      "    running build\n",
      "    running build_py\n",
      "    creating build\n",
      "    creating build/lib\n",
      "    creating build/lib/afinn\n",
      "    copying afinn/afinn.py -> build/lib/afinn\n",
      "    copying afinn/__init__.py -> build/lib/afinn\n",
      "    creating build/lib/afinn/data\n",
      "    copying afinn/data/AFINN-en-165.txt -> build/lib/afinn/data\n",
      "    copying afinn/data/AFINN-96.txt -> build/lib/afinn/data\n",
      "    copying afinn/data/AFINN-da-32.txt -> build/lib/afinn/data\n",
      "    copying afinn/data/AFINN-111.txt -> build/lib/afinn/data\n",
      "    copying afinn/data/AFINN-emoticon-8.txt -> build/lib/afinn/data\n",
      "    copying afinn/data/LICENSE -> build/lib/afinn/data\n",
      "    running install_lib\n",
      "    creating /usr/lib/python3.7/site-packages/afinn\n",
      "    error: could not create '/usr/lib/python3.7/site-packages/afinn': Permission denied\n",
      "    \n",
      "    ----------------------------------------\n",
      "\u001b[31mCommand \"/usr/bin/python -u -c \"import setuptools, tokenize;__file__='/tmp/pip-install-2k9qddlk/afinn/setup.py';f=getattr(tokenize, 'open', open)(__file__);code=f.read().replace('\\r\\n', '\\n');f.close();exec(compile(code, __file__, 'exec'))\" install --record /tmp/pip-record-wj0toiou/install-record.txt --single-version-externally-managed --compile\" failed with error code 1 in /tmp/pip-install-2k9qddlk/afinn/\u001b[0m\n",
      "\u001b[?25h"
     ]
    }
   ],
   "source": [
    "!pip install afinn"
   ]
  },
  {
   "cell_type": "markdown",
   "metadata": {
    "colab_type": "text",
    "id": "sNo97-FhtzhT"
   },
   "source": [
    "## Imports"
   ]
  },
  {
   "cell_type": "code",
   "execution_count": 2,
   "metadata": {
    "colab": {
     "base_uri": "https://localhost:8080/",
     "height": 87
    },
    "colab_type": "code",
    "executionInfo": {
     "elapsed": 3729,
     "status": "ok",
     "timestamp": 1556284633620,
     "user": {
      "displayName": "Matteo Basso",
      "photoUrl": "",
      "userId": "03678417778284387731"
     },
     "user_tz": -120
    },
    "id": "xjt9CovAtXaz",
    "outputId": "e998f955-0865-4bf4-ed30-0e0dcf31dde7"
   },
   "outputs": [
    {
     "ename": "ModuleNotFoundError",
     "evalue": "No module named 'nltk'",
     "output_type": "error",
     "traceback": [
      "\u001b[0;31m---------------------------------------------------------------------------\u001b[0m",
      "\u001b[0;31mModuleNotFoundError\u001b[0m                       Traceback (most recent call last)",
      "\u001b[0;32m<ipython-input-2-825720985ea1>\u001b[0m in \u001b[0;36m<module>\u001b[0;34m\u001b[0m\n\u001b[0;32m----> 1\u001b[0;31m \u001b[0;32mimport\u001b[0m \u001b[0mnltk\u001b[0m\u001b[0;34m\u001b[0m\u001b[0;34m\u001b[0m\u001b[0m\n\u001b[0m\u001b[1;32m      2\u001b[0m \u001b[0mnltk\u001b[0m\u001b[0;34m.\u001b[0m\u001b[0mdownload\u001b[0m\u001b[0;34m(\u001b[0m\u001b[0;34m'punkt'\u001b[0m\u001b[0;34m)\u001b[0m\u001b[0;34m\u001b[0m\u001b[0;34m\u001b[0m\u001b[0m\n\u001b[1;32m      3\u001b[0m \u001b[0mnltk\u001b[0m\u001b[0;34m.\u001b[0m\u001b[0mdownload\u001b[0m\u001b[0;34m(\u001b[0m\u001b[0;34m'stopwords'\u001b[0m\u001b[0;34m)\u001b[0m\u001b[0;34m\u001b[0m\u001b[0;34m\u001b[0m\u001b[0m\n\u001b[1;32m      4\u001b[0m \u001b[0;34m\u001b[0m\u001b[0m\n\u001b[1;32m      5\u001b[0m \u001b[0;32mimport\u001b[0m \u001b[0mpandas\u001b[0m \u001b[0;32mas\u001b[0m \u001b[0mpd\u001b[0m\u001b[0;34m\u001b[0m\u001b[0;34m\u001b[0m\u001b[0m\n",
      "\u001b[0;31mModuleNotFoundError\u001b[0m: No module named 'nltk'"
     ]
    }
   ],
   "source": [
    "import nltk\n",
    "nltk.download('punkt')\n",
    "nltk.download('stopwords')\n",
    "\n",
    "import pandas as pd"
   ]
  },
  {
   "cell_type": "markdown",
   "metadata": {
    "colab_type": "text",
    "id": "K3Bhd3bysxNS"
   },
   "source": [
    "# Dataset\n"
   ]
  },
  {
   "cell_type": "code",
   "execution_count": null,
   "metadata": {
    "colab": {},
    "colab_type": "code",
    "id": "BcC3H7qHs9LP"
   },
   "outputs": [],
   "source": [
    "url = 'https://raw.githubusercontent.com/Dodicin/trump-tweet-analysis/master/data/dataset.json'\n",
    "tweets = pd.read_json(url)"
   ]
  },
  {
   "cell_type": "code",
   "execution_count": null,
   "metadata": {
    "colab": {
     "base_uri": "https://localhost:8080/",
     "height": 52
    },
    "colab_type": "code",
    "executionInfo": {
     "elapsed": 5515,
     "status": "ok",
     "timestamp": 1556284635449,
     "user": {
      "displayName": "Matteo Basso",
      "photoUrl": "",
      "userId": "03678417778284387731"
     },
     "user_tz": -120
    },
    "id": "Bs-45XtqtcSn",
    "outputId": "0923bec4-a6c7-4533-e817-32571bf56af5"
   },
   "outputs": [],
   "source": [
    "print(type(tweets))\n",
    "print(len(tweets))"
   ]
  },
  {
   "cell_type": "code",
   "execution_count": null,
   "metadata": {
    "colab": {
     "base_uri": "https://localhost:8080/",
     "height": 511
    },
    "colab_type": "code",
    "executionInfo": {
     "elapsed": 5489,
     "status": "ok",
     "timestamp": 1556284635452,
     "user": {
      "displayName": "Matteo Basso",
      "photoUrl": "",
      "userId": "03678417778284387731"
     },
     "user_tz": -120
    },
    "id": "tIJI9I-QtgIP",
    "outputId": "784150be-6177-420f-fcf0-88044958ddbf"
   },
   "outputs": [],
   "source": [
    "tweets.head(10)"
   ]
  },
  {
   "cell_type": "markdown",
   "metadata": {
    "colab_type": "text",
    "id": "JAz9UC1zuSYs"
   },
   "source": [
    "## Tokenization\n"
   ]
  },
  {
   "cell_type": "code",
   "execution_count": null,
   "metadata": {
    "colab": {},
    "colab_type": "code",
    "id": "pwTLsp8vy1Xs"
   },
   "outputs": [],
   "source": [
    "import re\n",
    "\n",
    "contractions_dict = { \n",
    "\"ain't\": \"am not / are not / is not / has not / have not\",\n",
    "\"aren't\": \"are not / am not\",\n",
    "\"can't\": \"cannot\",\n",
    "\"can't've\": \"cannot have\",\n",
    "\"'cause\": \"because\",\n",
    "\"could've\": \"could have\",\n",
    "\"couldn't\": \"could not\",\n",
    "\"couldn't've\": \"could not have\",\n",
    "\"didn't\": \"did not\",\n",
    "\"doesn't\": \"does not\",\n",
    "\"don't\": \"do not\",\n",
    "\"hadn't\": \"had not\",\n",
    "\"hadn't've\": \"had not have\",\n",
    "\"hasn't\": \"has not\",\n",
    "\"haven't\": \"have not\",\n",
    "\"he'd\": \"he had / he would\",\n",
    "\"he'd've\": \"he would have\",\n",
    "\"he'll\": \"he shall / he will\",\n",
    "\"he'll've\": \"he shall have / he will have\",\n",
    "\"he's\": \"he has / he is\",\n",
    "\"how'd\": \"how did\",\n",
    "\"how'd'y\": \"how do you\",\n",
    "\"how'll\": \"how will\",\n",
    "\"how's\": \"how has / how is / how does\",\n",
    "\"I'd\": \"I had / I would\",\n",
    "\"I'd've\": \"I would have\",\n",
    "\"I'll\": \"I shall / I will\",\n",
    "\"I'll've\": \"I shall have / I will have\",\n",
    "\"I'm\": \"I am\",\n",
    "\"I've\": \"I have\",\n",
    "\"isn't\": \"is not\",\n",
    "\"it'd\": \"it had / it would\",\n",
    "\"it'd've\": \"it would have\",\n",
    "\"it'll\": \"it shall / it will\",\n",
    "\"it'll've\": \"it shall have / it will have\",\n",
    "\"it's\": \"it has / it is\",\n",
    "\"let's\": \"let us\",\n",
    "\"ma'am\": \"madam\",\n",
    "\"mayn't\": \"may not\",\n",
    "\"might've\": \"might have\",\n",
    "\"mightn't\": \"might not\",\n",
    "\"mightn't've\": \"might not have\",\n",
    "\"must've\": \"must have\",\n",
    "\"mustn't\": \"must not\",\n",
    "\"mustn't've\": \"must not have\",\n",
    "\"needn't\": \"need not\",\n",
    "\"needn't've\": \"need not have\",\n",
    "\"o'clock\": \"of the clock\",\n",
    "\"oughtn't\": \"ought not\",\n",
    "\"oughtn't've\": \"ought not have\",\n",
    "\"shan't\": \"shall not\",\n",
    "\"sha'n't\": \"shall not\",\n",
    "\"shan't've\": \"shall not have\",\n",
    "\"she'd\": \"she had / she would\",\n",
    "\"she'd've\": \"she would have\",\n",
    "\"she'll\": \"she shall / she will\",\n",
    "\"she'll've\": \"she shall have / she will have\",\n",
    "\"she's\": \"she has / she is\",\n",
    "\"should've\": \"should have\",\n",
    "\"shouldn't\": \"should not\",\n",
    "\"shouldn't've\": \"should not have\",\n",
    "\"so've\": \"so have\",\n",
    "\"so's\": \"so as / so is\",\n",
    "\"that'd\": \"that would / that had\",\n",
    "\"that'd've\": \"that would have\",\n",
    "\"that's\": \"that has / that is\",\n",
    "\"there'd\": \"there had / there would\",\n",
    "\"there'd've\": \"there would have\",\n",
    "\"there's\": \"there has / there is\",\n",
    "\"they'd\": \"they had / they would\",\n",
    "\"they'd've\": \"they would have\",\n",
    "\"they'll\": \"they shall / they will\",\n",
    "\"they'll've\": \"they shall have / they will have\",\n",
    "\"they're\": \"they are\",\n",
    "\"they've\": \"they have\",\n",
    "\"to've\": \"to have\",\n",
    "\"wasn't\": \"was not\",\n",
    "\"we'd\": \"we had / we would\",\n",
    "\"we'd've\": \"we would have\",\n",
    "\"we'll\": \"we will\",\n",
    "\"we'll've\": \"we will have\",\n",
    "\"we're\": \"we are\",\n",
    "\"we've\": \"we have\",\n",
    "\"weren't\": \"were not\",\n",
    "\"what'll\": \"what shall / what will\",\n",
    "\"what'll've\": \"what shall have / what will have\",\n",
    "\"what're\": \"what are\",\n",
    "\"what's\": \"what has / what is\",\n",
    "\"what've\": \"what have\",\n",
    "\"when's\": \"when has / when is\",\n",
    "\"when've\": \"when have\",\n",
    "\"where'd\": \"where did\",\n",
    "\"where's\": \"where has / where is\",\n",
    "\"where've\": \"where have\",\n",
    "\"who'll\": \"who shall / who will\",\n",
    "\"who'll've\": \"who shall have / who will have\",\n",
    "\"who's\": \"who has / who is\",\n",
    "\"who've\": \"who have\",\n",
    "\"why's\": \"why has / why is\",\n",
    "\"why've\": \"why have\",\n",
    "\"will've\": \"will have\",\n",
    "\"won't\": \"will not\",\n",
    "\"won't've\": \"will not have\",\n",
    "\"would've\": \"would have\",\n",
    "\"wouldn't\": \"would not\",\n",
    "\"wouldn't've\": \"would not have\",\n",
    "\"y'all\": \"you all\",\n",
    "\"y'all'd\": \"you all would\",\n",
    "\"y'all'd've\": \"you all would have\",\n",
    "\"y'all're\": \"you all are\",\n",
    "\"y'all've\": \"you all have\",\n",
    "\"you'd\": \"you had / you would\",\n",
    "\"you'd've\": \"you would have\",\n",
    "\"you'll\": \"you shall / you will\",\n",
    "\"you'll've\": \"you shall have / you will have\",\n",
    "\"you're\": \"you are\",\n",
    "\"you've\": \"you have\"\n",
    "}\n",
    "\n",
    "contractions_re = re.compile('(%s)' % '|'.join(contractions_dict.keys()))\n",
    "\n",
    "def expand_contractions(s, contractions_dict=contractions_dict):\n",
    "    def replace(match):\n",
    "        return contractions_dict[match.group(0)]\n",
    "    return contractions_re.sub(replace, s)"
   ]
  },
  {
   "cell_type": "code",
   "execution_count": null,
   "metadata": {
    "colab": {
     "base_uri": "https://localhost:8080/",
     "height": 140
    },
    "colab_type": "code",
    "executionInfo": {
     "elapsed": 6315,
     "status": "ok",
     "timestamp": 1556284636306,
     "user": {
      "displayName": "Matteo Basso",
      "photoUrl": "",
      "userId": "03678417778284387731"
     },
     "user_tz": -120
    },
    "id": "NpNZZ5ubuU_5",
    "outputId": "0c06a04a-d289-4963-ad9a-942b0f09f996"
   },
   "outputs": [],
   "source": [
    "from nltk.tokenize import TweetTokenizer\n",
    "tokening = TweetTokenizer(strip_handles=True, reduce_len=True)\n",
    "\n",
    "tweets_text = tweets['text']\n",
    "tweets_text = tweets_text.apply(lambda t:t.replace('’', \"'\"))\n",
    "tweets_text = tweets_text.apply(lambda t:t.replace('“', '\"'))\n",
    "tweets_text = tweets_text.apply(lambda t:t.replace('”', '\"'))\n",
    "tweets_text = tweets_text.apply(lambda t:re.sub(r\"\\s*http[^\\s]+\", '', t))\n",
    "tweets_text = tweets_text.apply(expand_contractions)\n",
    "tweets_tokenized = tweets_text.apply(tokening.tokenize)\n",
    "tweets_tokenized.head(6)"
   ]
  },
  {
   "cell_type": "markdown",
   "metadata": {
    "colab_type": "text",
    "id": "ImFw7kdVu9s_"
   },
   "source": [
    "## Stopwords removal"
   ]
  },
  {
   "cell_type": "code",
   "execution_count": null,
   "metadata": {
    "colab": {
     "base_uri": "https://localhost:8080/",
     "height": 54
    },
    "colab_type": "code",
    "executionInfo": {
     "elapsed": 6303,
     "status": "ok",
     "timestamp": 1556284636308,
     "user": {
      "displayName": "Matteo Basso",
      "photoUrl": "",
      "userId": "03678417778284387731"
     },
     "user_tz": -120
    },
    "id": "ZfXQUCnGvCMH",
    "outputId": "cec04c50-a5e4-456d-933d-82104c351d97"
   },
   "outputs": [],
   "source": [
    "from nltk.corpus import stopwords\n",
    "stop = set(stopwords.words('english'))\n",
    "#adding some of the stopwords after observing the tweets\n",
    "stop.add(\"The\")\n",
    "stop.add(\"And\")\n",
    "stop.add(\"I\")\n",
    "stop.add(\"J\")\n",
    "stop.add(\"K\")\n",
    "stop.add(\"I'd\")\n",
    "stop.add(\"That's\")\n",
    "stop.add(\"\\x81\")\n",
    "stop.add(\"It\")\n",
    "stop.add(\"I'm\")\n",
    "stop.add(\"...\")\n",
    "stop.add(\"\\x89\")\n",
    "stop.add(\"ĚĄ\")\n",
    "stop.add(\"it's\")\n",
    "stop.add(\"ă\")\n",
    "stop.add(\"\\x9d\")\n",
    "stop.add(\"âÂĺ\")\n",
    "stop.add(\"Ě\")\n",
    "stop.add(\"˘\")\n",
    "stop.add(\"Â\")\n",
    "stop.add(\"âÂ\")\n",
    "stop.add(\"Ň\")\n",
    "stop.add(\"http\")\n",
    "stop.add(\"https\")\n",
    "stop.add(\"co\")\n",
    "stop.add(\"000\")\n",
    "stop.add(\"Ň\")\n",
    "stop.add(\"Ň\")\n",
    "stop.add(\"Ň\")\n",
    "\n",
    "stop = list(stop)\n",
    "print(stop)"
   ]
  },
  {
   "cell_type": "code",
   "execution_count": null,
   "metadata": {
    "colab": {
     "base_uri": "https://localhost:8080/",
     "height": 1108
    },
    "colab_type": "code",
    "executionInfo": {
     "elapsed": 6854,
     "status": "ok",
     "timestamp": 1556284636877,
     "user": {
      "displayName": "Matteo Basso",
      "photoUrl": "",
      "userId": "03678417778284387731"
     },
     "user_tz": -120
    },
    "id": "1KHNgRQYyqGj",
    "outputId": "a2508ea6-af37-4bf4-f860-baa5559f02af"
   },
   "outputs": [],
   "source": [
    "tweets_tokenized_stop = tweets_tokenized.apply(lambda x: [item for item in x if item not in stop])\n",
    "tweets_tokenized_stop"
   ]
  },
  {
   "cell_type": "markdown",
   "metadata": {
    "colab_type": "text",
    "id": "uROCUsv_vCcI"
   },
   "source": [
    "## Punctuation removal"
   ]
  },
  {
   "cell_type": "code",
   "execution_count": null,
   "metadata": {
    "colab": {
     "base_uri": "https://localhost:8080/",
     "height": 34
    },
    "colab_type": "code",
    "executionInfo": {
     "elapsed": 6836,
     "status": "ok",
     "timestamp": 1556284636880,
     "user": {
      "displayName": "Matteo Basso",
      "photoUrl": "",
      "userId": "03678417778284387731"
     },
     "user_tz": -120
    },
    "id": "EhXmSUl2vEbY",
    "outputId": "0e1ca9a3-ff0e-4041-f786-2e16cb7667ec"
   },
   "outputs": [],
   "source": [
    "import string\n",
    "from nltk import wordpunct_tokenize\n",
    "\n",
    "punctuation = string.punctuation\n",
    "print(punctuation)"
   ]
  },
  {
   "cell_type": "code",
   "execution_count": null,
   "metadata": {
    "colab": {
     "base_uri": "https://localhost:8080/",
     "height": 1108
    },
    "colab_type": "code",
    "executionInfo": {
     "elapsed": 7019,
     "status": "ok",
     "timestamp": 1556284637082,
     "user": {
      "displayName": "Matteo Basso",
      "photoUrl": "",
      "userId": "03678417778284387731"
     },
     "user_tz": -120
    },
    "id": "w_IVJhmDwPS4",
    "outputId": "e57e06ed-d4dc-4cf5-fef3-8c84f246f77e"
   },
   "outputs": [],
   "source": [
    "tweets_tokenized_stop_punct = tweets_tokenized_stop.apply(lambda x: [item for item in x if item not in punctuation])\n",
    "tweets_tokenized_stop_punct"
   ]
  },
  {
   "cell_type": "markdown",
   "metadata": {
    "colab_type": "text",
    "id": "i10obGL5vEoH"
   },
   "source": [
    "## Stemming"
   ]
  },
  {
   "cell_type": "code",
   "execution_count": null,
   "metadata": {
    "colab": {
     "base_uri": "https://localhost:8080/",
     "height": 1108
    },
    "colab_type": "code",
    "executionInfo": {
     "elapsed": 8704,
     "status": "ok",
     "timestamp": 1556284638785,
     "user": {
      "displayName": "Matteo Basso",
      "photoUrl": "",
      "userId": "03678417778284387731"
     },
     "user_tz": -120
    },
    "id": "2MzUCqHovG51",
    "outputId": "96b2d5b7-3014-42b2-d61e-91aa72f209ed"
   },
   "outputs": [],
   "source": [
    "from nltk.stem.snowball import SnowballStemmer\n",
    "snowball_stemmer = SnowballStemmer('english')\n",
    "\n",
    "tweets_tokenized_new_stem = tweets_tokenized_stop_punct.apply(lambda x: [snowball_stemmer.stem(item) for item in x])\n",
    "tweets['tokenized_text'] = tweets_tokenized_new_stem\n",
    "tweets_tokenized_new_stem"
   ]
  },
  {
   "cell_type": "markdown",
   "metadata": {
    "colab_type": "text",
    "id": "gvECpt4F_zSB"
   },
   "source": [
    "## Visualization"
   ]
  },
  {
   "cell_type": "code",
   "execution_count": null,
   "metadata": {
    "colab": {},
    "colab_type": "code",
    "id": "0_mdGt71_1l7"
   },
   "outputs": [],
   "source": [
    "import matplotlib.pyplot as plt\n",
    "%matplotlib inline"
   ]
  },
  {
   "cell_type": "code",
   "execution_count": null,
   "metadata": {
    "colab": {},
    "colab_type": "code",
    "id": "67a_KMz9_3Ks"
   },
   "outputs": [],
   "source": [
    "from PIL import Image\n",
    "import numpy as np\n",
    "\n",
    "from wordcloud import WordCloud"
   ]
  },
  {
   "cell_type": "code",
   "execution_count": null,
   "metadata": {
    "colab": {
     "base_uri": "https://localhost:8080/",
     "height": 710
    },
    "colab_type": "code",
    "executionInfo": {
     "elapsed": 11470,
     "status": "ok",
     "timestamp": 1556284641587,
     "user": {
      "displayName": "Matteo Basso",
      "photoUrl": "",
      "userId": "03678417778284387731"
     },
     "user_tz": -120
    },
    "id": "Wdwy4geV_4aK",
    "outputId": "b7840e65-7da0-4911-9d01-56be7174318a"
   },
   "outputs": [],
   "source": [
    "import itertools\n",
    "\n",
    "sentences = (list(itertools.chain(tweets_tokenized_new_stem)))\n",
    "flat_list = [item for sublist in sentences for item in sublist]\n",
    "  \n",
    "fig = plt.figure(figsize=(20,14))\n",
    "wordcloud = WordCloud(background_color=\"white\").generate(\" \".join(flat_list))\n",
    "plt.imshow(wordcloud,interpolation='bilinear')\n",
    "plt.axis(\"off\")"
   ]
  },
  {
   "cell_type": "code",
   "execution_count": null,
   "metadata": {
    "colab": {
     "base_uri": "https://localhost:8080/",
     "height": 17634
    },
    "colab_type": "code",
    "executionInfo": {
     "elapsed": 1158,
     "status": "ok",
     "timestamp": 1556286059849,
     "user": {
      "displayName": "Matteo Basso",
      "photoUrl": "",
      "userId": "03678417778284387731"
     },
     "user_tz": -120
    },
    "id": "0SRl_k3sETDh",
    "outputId": "9f993ace-d853-40bd-a6af-c49be07960ab"
   },
   "outputs": [],
   "source": [
    "from collections import Counter\n",
    "import itertools\n",
    "\n",
    "sentences = (list(itertools.chain(tweets_tokenized_new_stem)))\n",
    "flat_list = [item for sublist in sentences for item in sublist]\n",
    "flat_list\n",
    "c = Counter(flat_list)\n",
    "c.most_common()"
   ]
  },
  {
   "cell_type": "markdown",
   "metadata": {
    "colab_type": "text",
    "id": "Mwcc1qprIN8T"
   },
   "source": [
    "## Sentiment"
   ]
  },
  {
   "cell_type": "code",
   "execution_count": null,
   "metadata": {
    "colab": {
     "base_uri": "https://localhost:8080/",
     "height": 343
    },
    "colab_type": "code",
    "executionInfo": {
     "elapsed": 16722,
     "status": "ok",
     "timestamp": 1556284646878,
     "user": {
      "displayName": "Matteo Basso",
      "photoUrl": "",
      "userId": "03678417778284387731"
     },
     "user_tz": -120
    },
    "id": "_e93YuX-IP1s",
    "outputId": "2cbb84d9-6938-4f43-cbda-55235c59fb0d"
   },
   "outputs": [],
   "source": [
    "from afinn import Afinn\n",
    "afinn = Afinn()\n",
    "\n",
    "tweets['afinn'] = tweets[\"text\"].apply(afinn.score)\n",
    "tweets[['afinn', 'text', 'tokenized_text']].head(10)"
   ]
  },
  {
   "cell_type": "code",
   "execution_count": null,
   "metadata": {
    "colab": {
     "base_uri": "https://localhost:8080/",
     "height": 710
    },
    "colab_type": "code",
    "executionInfo": {
     "elapsed": 18513,
     "status": "ok",
     "timestamp": 1556284648686,
     "user": {
      "displayName": "Matteo Basso",
      "photoUrl": "",
      "userId": "03678417778284387731"
     },
     "user_tz": -120
    },
    "id": "or2axWDDKY2y",
    "outputId": "87d23878-f6f0-4e4b-ce50-d300afe07c87"
   },
   "outputs": [],
   "source": [
    "import itertools\n",
    "\n",
    "is_negative =  tweets['afinn'] < 0\n",
    "negative_tweets = tweets[is_negative]\n",
    "negative_tweets[['afinn', 'text', 'tokenized_text']].head(10)\n",
    "  \n",
    "sentences = (list(itertools.chain(negative_tweets['tokenized_text'])))\n",
    "flat_list = [item for sublist in sentences for item in sublist]\n",
    "  \n",
    "fig = plt.figure(figsize=(20,14))\n",
    "wordcloud = WordCloud(background_color=\"black\").generate(\" \".join(flat_list))\n",
    "plt.imshow(wordcloud,interpolation='bilinear')\n",
    "plt.axis(\"off\")"
   ]
  },
  {
   "cell_type": "code",
   "execution_count": null,
   "metadata": {
    "colab": {
     "base_uri": "https://localhost:8080/",
     "height": 710
    },
    "colab_type": "code",
    "executionInfo": {
     "elapsed": 20161,
     "status": "ok",
     "timestamp": 1556284650352,
     "user": {
      "displayName": "Matteo Basso",
      "photoUrl": "",
      "userId": "03678417778284387731"
     },
     "user_tz": -120
    },
    "id": "vXxN0r3XNyHZ",
    "outputId": "67270647-383a-41de-bb4b-ea880fdc1718"
   },
   "outputs": [],
   "source": [
    "import itertools\n",
    "\n",
    "is_negative =  tweets['afinn'] >= 0\n",
    "negative_tweets = tweets[is_negative]\n",
    "negative_tweets[['afinn', 'text', 'tokenized_text']].head(10)\n",
    "  \n",
    "sentences = (list(itertools.chain(negative_tweets['tokenized_text'])))\n",
    "flat_list = [item for sublist in sentences for item in sublist]\n",
    "  \n",
    "fig = plt.figure(figsize=(20,14))\n",
    "wordcloud = WordCloud(background_color=\"white\").generate(\" \".join(flat_list))\n",
    "plt.imshow(wordcloud,interpolation='bilinear')\n",
    "plt.axis(\"off\")"
   ]
  },
  {
   "cell_type": "markdown",
   "metadata": {
    "colab_type": "text",
    "id": "lp5NeYhEhvPr"
   },
   "source": [
    "# Analysis"
   ]
  },
  {
   "cell_type": "markdown",
   "metadata": {
    "colab_type": "text",
    "id": "hLoQrVFVjv7R"
   },
   "source": [
    "## Dependencies"
   ]
  },
  {
   "cell_type": "code",
   "execution_count": null,
   "metadata": {
    "colab": {
     "base_uri": "https://localhost:8080/",
     "height": 70
    },
    "colab_type": "code",
    "executionInfo": {
     "elapsed": 23315,
     "status": "ok",
     "timestamp": 1556284653522,
     "user": {
      "displayName": "Matteo Basso",
      "photoUrl": "",
      "userId": "03678417778284387731"
     },
     "user_tz": -120
    },
    "id": "4Y3lUHaijyAo",
    "outputId": "5785c982-fb84-4c3a-84f1-993eb03dcf68"
   },
   "outputs": [],
   "source": [
    "!pip install arrow"
   ]
  },
  {
   "cell_type": "markdown",
   "metadata": {
    "colab_type": "text",
    "id": "szZZRHQBh2P7"
   },
   "source": [
    "## Imports"
   ]
  },
  {
   "cell_type": "code",
   "execution_count": null,
   "metadata": {
    "colab": {},
    "colab_type": "code",
    "id": "O39O0dCnh5h-"
   },
   "outputs": [],
   "source": [
    "%matplotlib inline\n",
    "\n",
    "import warnings\n",
    "import requests\n",
    "import zipfile\n",
    "import io\n",
    "import json\n",
    "import unicodedata\n",
    "\n",
    "import pandas as pd\n",
    "import numpy as np\n",
    "import math\n",
    "import matplotlib\n",
    "import matplotlib.pyplot as plt\n",
    "import locale\n",
    "import arrow\n",
    "import xml.etree.ElementTree as ET\n",
    "\n",
    "from locale import atof\n",
    "from dateutil import parser\n",
    "from datetime import datetime\n",
    "\n",
    "plt.style.use('fivethirtyeight')\n",
    "matplotlib.rcParams['figure.figsize'] = (12, 6)\n",
    "matplotlib.rcParams['font.size'] = 10\n",
    "\n",
    "warnings.filterwarnings('ignore')\n",
    "warnings.simplefilter('ignore')"
   ]
  },
  {
   "cell_type": "markdown",
   "metadata": {
    "colab_type": "text",
    "id": "n-JEOAgojosZ"
   },
   "source": [
    "## Utilities"
   ]
  },
  {
   "cell_type": "code",
   "execution_count": null,
   "metadata": {
    "colab": {},
    "colab_type": "code",
    "id": "OjXyJnjxjm6Y"
   },
   "outputs": [],
   "source": [
    "# Stub for helpers\n",
    "# convert utc to est\n",
    "def convertUTCtoFull(date):\n",
    "    utc = arrow.get(date)\n",
    "    return utc.to('US/Eastern').format('dddd, MMM D, YYYY h:mm A')\n",
    "\n",
    "# convert to year\n",
    "def convertUTCtoYear(date):\n",
    "    utc = arrow.get(date)\n",
    "    return utc.to('US/Eastern').format('YYYY')\n",
    "\n",
    "# convert to month\n",
    "def convertUTCtoMonth(date):\n",
    "    utc = arrow.get(date)\n",
    "    return utc.to('US/Eastern').format('MM')\n",
    "\n",
    "# convert to year-month\n",
    "def convertUTCtoYearMonth(date):\n",
    "    utc = arrow.get(date)\n",
    "    return utc.to('US/Eastern').format('YYYY-MM')\n",
    "\n",
    "# convert to day\n",
    "def convertUTCtoDay(date):\n",
    "    utc = arrow.get(date)\n",
    "    return utc.to('US/Eastern').format('D')\n",
    "\n",
    "# convert to month/day\n",
    "def convertUTCtoMonthDay(date):\n",
    "    utc = arrow.get(date)\n",
    "    return utc.to('US/Eastern').format('YYYY-MM-DD')\n",
    "\n",
    "# convert to day of week\n",
    "def convertUTCtoDayOfWeek(date):\n",
    "    utc = arrow.get(date)\n",
    "    return utc.to('US/Eastern').format('d')\n",
    "\n",
    "# convert to time\n",
    "def convertUTCtoHourOfDay(date):\n",
    "    utc = arrow.get(date)\n",
    "    return int(utc.to('US/Eastern').format('HH'))\n",
    "\n",
    "# convert to week of year\n",
    "def convertUTCtoWeekNumber(date):\n",
    "    return int(date.strftime('%U'))\n",
    "\n",
    "# convert to year + week of year\n",
    "def convertUTCtoYearWeekNumber(date):\n",
    "    utc = arrow.get(date)\n",
    "    year = utc.to('US/Eastern').format('YYYY')\n",
    "    weekno = int(date.strftime('%U'))\n",
    "    return str(year) + '-' + str(weekno).zfill(2)\n",
    "\n",
    "# Strip HTML\n",
    "def stripHTML(html):\n",
    "    tree = ET.fromstring(html)\n",
    "    return ET.tostring(tree, encoding='utf8', method='text')\n",
    "\n",
    "# Encode with closest thing to character\n",
    "def encodeText(line):\n",
    "    line = unicodedata.normalize('NFKD', line).encode('ascii','ignore')\n",
    "    return line"
   ]
  },
  {
   "cell_type": "markdown",
   "metadata": {
    "colab_type": "text",
    "id": "FIPvWvelkQYO"
   },
   "source": [
    "## Preprocessing"
   ]
  },
  {
   "cell_type": "code",
   "execution_count": null,
   "metadata": {
    "colab": {
     "base_uri": "https://localhost:8080/",
     "height": 492
    },
    "colab_type": "code",
    "executionInfo": {
     "elapsed": 38282,
     "status": "ok",
     "timestamp": 1556284668517,
     "user": {
      "displayName": "Matteo Basso",
      "photoUrl": "",
      "userId": "03678417778284387731"
     },
     "user_tz": -120
    },
    "id": "AyjHuH2skSyG",
    "outputId": "f69deaae-a15a-4282-bd21-de875f087151"
   },
   "outputs": [],
   "source": [
    "tweets['created_date'] = pd.to_datetime(tweets['created_at'])\n",
    "tweets['id'] = tweets['id_str']\n",
    "tweets.text.fillna(tweets.text, inplace=True)\n",
    "tweets['human_date'] = tweets['created_date'].apply(convertUTCtoFull)\n",
    "tweets['month/day'] = tweets['created_date'].apply(convertUTCtoMonthDay)\n",
    "tweets['year'] = tweets['created_date'].apply(convertUTCtoYear)\n",
    "tweets['month'] = tweets['created_date'].apply(convertUTCtoMonth)\n",
    "tweets['year_month'] = tweets['created_date'].apply(convertUTCtoYearMonth)\n",
    "tweets['day'] = tweets['created_date'].apply(convertUTCtoDay)\n",
    "tweets['day of week'] = tweets['created_date'].apply(convertUTCtoDayOfWeek)\n",
    "tweets['hour'] = tweets['created_date'].apply(convertUTCtoHourOfDay)\n",
    "tweets['week'] = tweets['created_date'].apply(convertUTCtoWeekNumber) \n",
    "tweets['year_week'] = tweets['created_date'].apply(convertUTCtoYearWeekNumber)\n",
    "tweets['text encoded'] = tweets['text'].apply(encodeText)\n",
    "tweets.set_index('created_date', inplace=True)\n",
    "\n",
    "tweets['source'] = tweets['source'].apply(lambda x: 'Twitter Media Studio' if x == 'Media Studio' else x);\n",
    "\n",
    "\n",
    "tweets.head()"
   ]
  },
  {
   "cell_type": "markdown",
   "metadata": {
    "colab_type": "text",
    "id": "zPpjIRRuhzYX"
   },
   "source": [
    "## Frequencies"
   ]
  },
  {
   "cell_type": "markdown",
   "metadata": {
    "colab_type": "text",
    "id": "6t9q6235Jp2B"
   },
   "source": [
    "### Tweets by source"
   ]
  },
  {
   "cell_type": "code",
   "execution_count": null,
   "metadata": {
    "colab": {
     "base_uri": "https://localhost:8080/",
     "height": 140
    },
    "colab_type": "code",
    "executionInfo": {
     "elapsed": 539,
     "status": "ok",
     "timestamp": 1556290888156,
     "user": {
      "displayName": "Matteo Basso",
      "photoUrl": "",
      "userId": "03678417778284387731"
     },
     "user_tz": -120
    },
    "id": "ABps6ItLJryN",
    "outputId": "0c3e8aef-527f-404a-ad4e-aa97658b38dd"
   },
   "outputs": [],
   "source": [
    "tweetsPerSource = tweets[['source', 'text']].groupby(['source']).agg(['count'])\n",
    "print(tweetsPerSource)"
   ]
  },
  {
   "cell_type": "markdown",
   "metadata": {
    "colab_type": "text",
    "id": "aTDMm1IGksD_"
   },
   "source": [
    "### Tweets per hour"
   ]
  },
  {
   "cell_type": "code",
   "execution_count": null,
   "metadata": {
    "colab": {
     "base_uri": "https://localhost:8080/",
     "height": 429
    },
    "colab_type": "code",
    "executionInfo": {
     "elapsed": 38673,
     "status": "ok",
     "timestamp": 1556284668920,
     "user": {
      "displayName": "Matteo Basso",
      "photoUrl": "",
      "userId": "03678417778284387731"
     },
     "user_tz": -120
    },
    "id": "xsaGw42akt9T",
    "outputId": "d5954361-d863-457e-92dd-9e47fe291f74"
   },
   "outputs": [],
   "source": [
    "tweetsPerHour = tweets[['source', 'hour', 'text']].pivot_table(\n",
    "    index='hour', columns=['source'], aggfunc='count')\n",
    "tweetsPerHour.iloc[::-1].plot(kind='line', stacked=True)"
   ]
  },
  {
   "cell_type": "markdown",
   "metadata": {
    "colab_type": "text",
    "id": "lxIgTbbLkzcE"
   },
   "source": [
    "### Tweets per day of week"
   ]
  },
  {
   "cell_type": "code",
   "execution_count": null,
   "metadata": {
    "colab": {
     "base_uri": "https://localhost:8080/",
     "height": 411
    },
    "colab_type": "code",
    "executionInfo": {
     "elapsed": 1090,
     "status": "ok",
     "timestamp": 1556284723072,
     "user": {
      "displayName": "Matteo Basso",
      "photoUrl": "",
      "userId": "03678417778284387731"
     },
     "user_tz": -120
    },
    "id": "Y0fY48t4nEO5",
    "outputId": "6bf3ae6c-6aee-463a-a1ff-9726661f07c3"
   },
   "outputs": [],
   "source": [
    "tweetsPerDayOfWeek = tweets[['source', 'day of week', 'text']].pivot_table(\n",
    "    index='day of week', columns=['source'], aggfunc='count')\n",
    "tweetsPerDayOfWeek.iloc[::-1].plot(kind='barh')"
   ]
  },
  {
   "cell_type": "markdown",
   "metadata": {
    "colab_type": "text",
    "id": "oE0rb26YqEyF"
   },
   "source": [
    "### Tweets per hour from Media Studio"
   ]
  },
  {
   "cell_type": "code",
   "execution_count": null,
   "metadata": {
    "colab": {
     "base_uri": "https://localhost:8080/",
     "height": 411
    },
    "colab_type": "code",
    "executionInfo": {
     "elapsed": 807,
     "status": "ok",
     "timestamp": 1556290080951,
     "user": {
      "displayName": "Matteo Basso",
      "photoUrl": "",
      "userId": "03678417778284387731"
     },
     "user_tz": -120
    },
    "id": "r9SuiCQxqJa4",
    "outputId": "4d72a295-cde8-4650-fc47-72b01c492f1d"
   },
   "outputs": [],
   "source": [
    "is_media_studio =  tweets['source'] == 'Twitter Media Studio'\n",
    "tweetsMediaStudio = tweets[is_media_studio]\n",
    "\n",
    "tweetsPerHourMediaStudio = tweetsMediaStudio[['hour']].groupby(tweetsMediaStudio['hour']).count()\n",
    "tweetsPerHourMediaStudio.iloc[::-1].plot(kind='barh')"
   ]
  },
  {
   "cell_type": "markdown",
   "metadata": {
    "colab_type": "text",
    "id": "mnpNlM6qzmiB"
   },
   "source": [
    "### Tweets per hour from iPhone"
   ]
  },
  {
   "cell_type": "code",
   "execution_count": null,
   "metadata": {
    "colab": {
     "base_uri": "https://localhost:8080/",
     "height": 411
    },
    "colab_type": "code",
    "executionInfo": {
     "elapsed": 1033,
     "status": "ok",
     "timestamp": 1556284913781,
     "user": {
      "displayName": "Matteo Basso",
      "photoUrl": "",
      "userId": "03678417778284387731"
     },
     "user_tz": -120
    },
    "id": "vVwHFokGzlnS",
    "outputId": "057dc523-eca8-4895-9404-0f5ccc7ca5ca"
   },
   "outputs": [],
   "source": [
    "is_iphone =  tweets['source'] == 'Twitter for iPhone'\n",
    "tweetsPerHourIPhone = tweets[is_iphone]\n",
    "\n",
    "tweetsPerHourIPhone = tweetsPerHourIPhone[['hour']].groupby(tweetsPerHourIPhone['hour']).count()\n",
    "tweetsPerHourIPhone.iloc[::-1].plot(kind='barh')"
   ]
  },
  {
   "cell_type": "markdown",
   "metadata": {
    "colab_type": "text",
    "id": "IGhT3bPi0ws_"
   },
   "source": [
    "# Mueller report"
   ]
  },
  {
   "cell_type": "code",
   "execution_count": null,
   "metadata": {
    "colab": {},
    "colab_type": "code",
    "id": "_0MlEhg20zzV"
   },
   "outputs": [],
   "source": [
    "from IPython.display import display, Markdown\n",
    "\n",
    "tweetsEnc = tweets.reset_index()\n",
    "\n",
    "def analyzeText(search):\n",
    "    print('Search: {0}'.format(search))\n",
    "    filtered = tweetsEnc[tweetsEnc['text'].str.contains(search, case=False)]\n",
    "    count = len(filtered)\n",
    "    percent = float(len(filtered))/len(tweetsEnc) * 100\n",
    "    print('Number of Tweets: {0}'.format(count))\n",
    "    print('Percent of all Tweets: {0:.2f}%'.format(percent))\n",
    "    \n",
    "    # set up the base data frame for indexing purposes\n",
    "    baseWeek = tweets[['source', 'year', 'week', 'text']].pivot_table(index=['year', 'week'], columns=['source'], aggfunc='count')\n",
    "    baseMonth = tweets[['source', 'year', 'month', 'text']].pivot_table(index=['year', 'month'], columns=['source'], aggfunc='count')\n",
    "\n",
    "    # set up the filtered data frame\n",
    "    analyzedByWeek = filtered[['source', 'year', 'week', 'text']].pivot_table(index=['year', 'week'], columns=['source'], aggfunc='count')\n",
    "    analyzedByMonth = filtered[['source', 'year', 'month', 'text']].pivot_table(index=['year', 'month'], columns=['source'], aggfunc='count')\n",
    "    analyzedByHour = filtered[['source', 'hour', 'text']].pivot_table(index=['hour'], columns=['source'], aggfunc='count')\n",
    "\n",
    "    # adjust the filtered data frame to use the index from the base data frame\n",
    "    analyzedByWeek = analyzedByWeek.reindex_like(baseWeek)\n",
    "    analyzedByMonth = analyzedByMonth.reindex_like(baseMonth)\n",
    "    analyzedByHour = analyzedByHour.reindex(range(0, 24)).fillna(0)\n",
    "\n",
    "    # spit out the plot\n",
    "    analyzedByWeekPlot = analyzedByWeek.plot(kind='bar', stacked=True, title='{0} by week'.format(search)) \n",
    "    plt.show()\n",
    "\n",
    "    analyzedByMonthPlot = analyzedByMonth.plot(kind='bar', stacked=True, title='{0} by month'.format(search))\n",
    "    plt.show()\n",
    "\n",
    "    analyzedByHourPlot = analyzedByHour.plot(kind='bar', stacked=True, title='{0} by hour of day'.format(search))\n",
    "    plt.show()"
   ]
  },
  {
   "cell_type": "code",
   "execution_count": null,
   "metadata": {
    "colab": {
     "base_uri": "https://localhost:8080/",
     "height": 1390
    },
    "colab_type": "code",
    "executionInfo": {
     "elapsed": 4344,
     "status": "ok",
     "timestamp": 1556289740011,
     "user": {
      "displayName": "Matteo Basso",
      "photoUrl": "",
      "userId": "03678417778284387731"
     },
     "user_tz": -120
    },
    "id": "xLHJvo9O08Ez",
    "outputId": "1fd11911-116e-488f-b503-71f02c764864"
   },
   "outputs": [],
   "source": [
    "analyzeText('Mueller')"
   ]
  },
  {
   "cell_type": "markdown",
   "metadata": {
    "colab_type": "text",
    "id": "LQaSu1RE177F"
   },
   "source": [
    "# New Section"
   ]
  }
 ],
 "metadata": {
  "colab": {
   "collapsed_sections": [
    "0oKaughPt6zv",
    "sNo97-FhtzhT",
    "K3Bhd3bysxNS",
    "lxIgTbbLkzcE",
    "oE0rb26YqEyF"
   ],
   "name": "Analysis of Trump tweets.ipynb",
   "provenance": [],
   "toc_visible": true,
   "version": "0.3.2"
  },
  "kernelspec": {
   "display_name": "Python 3",
   "language": "python",
   "name": "python3"
  },
  "language_info": {
   "codemirror_mode": {
    "name": "ipython",
    "version": 3
   },
   "file_extension": ".py",
   "mimetype": "text/x-python",
   "name": "python",
   "nbconvert_exporter": "python",
   "pygments_lexer": "ipython3",
   "version": "3.7.3"
  }
 },
 "nbformat": 4,
 "nbformat_minor": 1
}
